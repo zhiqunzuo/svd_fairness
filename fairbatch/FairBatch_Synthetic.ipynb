{
 "cells": [
  {
   "cell_type": "markdown",
   "metadata": {},
   "source": [
    "# FairBatch on the Synthetic Data\n",
    "\n",
    "#### This Jupyter Notebook simulates FairBatch on the synthetic data.\n",
    "#### It includes three fairness metrics: equal opportunity, equalized odds, and demographic parity."
   ]
  },
  {
   "cell_type": "markdown",
   "metadata": {},
   "source": [
    "## Import libraries"
   ]
  },
  {
   "cell_type": "code",
   "execution_count": 1,
   "metadata": {},
   "outputs": [],
   "source": [
    "import sys, os\n",
    "import numpy as np\n",
    "import math\n",
    "import random\n",
    "import itertools\n",
    "import copy\n",
    "\n",
    "from torch.autograd import Variable\n",
    "import torch.nn as nn\n",
    "import torch.nn.functional as F\n",
    "from torch.utils.data import Dataset, DataLoader\n",
    "from torch.utils.data.sampler import Sampler\n",
    "import torch\n",
    "\n",
    "from models import LogisticRegression, weights_init_normal, test_model\n",
    "from FairBatchSampler import FairBatch, CustomDataset\n",
    "\n",
    "import warnings\n",
    "warnings.filterwarnings(\"ignore\")"
   ]
  },
  {
   "cell_type": "markdown",
   "metadata": {},
   "source": [
    "## Load and process the data"
   ]
  },
  {
   "cell_type": "code",
   "execution_count": 3,
   "metadata": {},
   "outputs": [],
   "source": [
    "xz_train = np.load('./synthetic_data/xz_train.npy')\n",
    "y_train = np.load('./synthetic_data/y_train.npy') \n",
    "z_train = np.load('./synthetic_data/z_train.npy')\n",
    "\n",
    "xz_test = np.load('./synthetic_data/xz_test.npy')\n",
    "y_test = np.load('./synthetic_data/y_test.npy') \n",
    "z_test = np.load('./synthetic_data/z_test.npy')\n",
    "\n",
    "xz_train = torch.FloatTensor(xz_train)\n",
    "y_train = torch.FloatTensor(y_train)\n",
    "z_train = torch.FloatTensor(z_train)\n",
    "\n",
    "xz_test = torch.FloatTensor(xz_test)\n",
    "y_test = torch.FloatTensor(y_test)\n",
    "z_test = torch.FloatTensor(z_test)"
   ]
  },
  {
   "cell_type": "code",
   "execution_count": 4,
   "metadata": {},
   "outputs": [
    {
     "name": "stdout",
     "output_type": "stream",
     "text": [
      "---------- Number of Data ----------\n",
      "Train data : 2000, Test data : 1000 \n",
      "------------------------------------\n"
     ]
    }
   ],
   "source": [
    "print(\"---------- Number of Data ----------\" )\n",
    "print(\n",
    "    \"Train data : %d, Test data : %d \"\n",
    "    % (len(y_train), len(y_test))\n",
    ")       \n",
    "print(\"------------------------------------\")"
   ]
  },
  {
   "cell_type": "markdown",
   "metadata": {},
   "source": [
    "## Training function"
   ]
  },
  {
   "cell_type": "code",
   "execution_count": 4,
   "metadata": {},
   "outputs": [],
   "source": [
    "def run_epoch(model, train_features, labels, optimizer, criterion):\n",
    "    \"\"\"Trains the model with the given train data.\n",
    "\n",
    "    Args:\n",
    "        model: A torch model to train.\n",
    "        train_features: A torch tensor indicating the train features.\n",
    "        labels: A torch tensor indicating the true labels.\n",
    "        optimizer: A torch optimizer.\n",
    "        criterion: A torch criterion.\n",
    "\n",
    "    Returns:\n",
    "        loss value.\n",
    "    \"\"\"\n",
    "    \n",
    "    optimizer.zero_grad()\n",
    "\n",
    "    label_predicted = model.forward(train_features)\n",
    "    loss  = criterion((F.tanh(label_predicted.squeeze())+1)/2, (labels.squeeze()+1)/2)\n",
    "    loss.backward()\n",
    "\n",
    "    optimizer.step()\n",
    "    \n",
    "    return loss.item()"
   ]
  },
  {
   "cell_type": "code",
   "execution_count": 45,
   "metadata": {},
   "outputs": [],
   "source": [
    "from torchmetrics.functional.pairwise import pairwise_euclidean_distance\n",
    "\n",
    "def select_k_similar_pairs(x1, x2, k):\n",
    "    distances = pairwise_euclidean_distance(x1, x2)\n",
    "\n",
    "    flatten_distances = distances.flatten()\n",
    "\n",
    "    top_k_indices = torch.topk(flatten_distances, k, largest=False)[1]\n",
    "\n",
    "    selected_x1 = torch.zeros((k, x1.size()[1]))\n",
    "    selected_x2 = torch.zeros((k, x2.size()[1]))\n",
    "\n",
    "    for i in range(k):\n",
    "        selected_x1[i] = x1[int(top_k_indices[i] // distances.size()[1])]\n",
    "        selected_x2[i] = x2[int(top_k_indices[i] % distances.size()[1])]\n",
    "\n",
    "    return selected_x1, selected_x2"
   ]
  },
  {
   "cell_type": "markdown",
   "metadata": {},
   "source": [
    "# 1. FairBatch w.r.t. Equal Opportunity\n",
    "### The results are in Section 4.1 of the paper."
   ]
  },
  {
   "cell_type": "code",
   "execution_count": 77,
   "metadata": {
    "scrolled": true
   },
   "outputs": [
    {
     "name": "stdout",
     "output_type": "stream",
     "text": [
      "< Seed: 0 >\n",
      "  Test accuracy: 0.8700000047683716, EO disparity: 0.040665756528306285\n",
      "----------------------------------------------------------------------\n",
      "< Seed: 1 >\n",
      "  Test accuracy: 0.8690000176429749, EO disparity: 0.040665756528306285\n",
      "----------------------------------------------------------------------\n",
      "< Seed: 2 >\n",
      "  Test accuracy: 0.8679999709129333, EO disparity: 0.036812191981100195\n",
      "----------------------------------------------------------------------\n",
      "< Seed: 3 >\n",
      "  Test accuracy: 0.8700000047683716, EO disparity: 0.04142097772097486\n",
      "----------------------------------------------------------------------\n",
      "< Seed: 4 >\n",
      "  Test accuracy: 0.8619999885559082, EO disparity: 0.031031845160290894\n",
      "----------------------------------------------------------------------\n",
      "< Seed: 5 >\n",
      "  Test accuracy: 0.8679999709129333, EO disparity: 0.038738974254703185\n",
      "----------------------------------------------------------------------\n",
      "< Seed: 6 >\n",
      "  Test accuracy: 0.8629999756813049, EO disparity: 0.01788325054947182\n",
      "----------------------------------------------------------------------\n",
      "< Seed: 7 >\n",
      "  Test accuracy: 0.8709999918937683, EO disparity: 0.04183731760924081\n",
      "----------------------------------------------------------------------\n",
      "< Seed: 8 >\n",
      "  Test accuracy: 0.8619999885559082, EO disparity: 0.03605697078843151\n",
      "----------------------------------------------------------------------\n",
      "< Seed: 9 >\n",
      "  Test accuracy: 0.8690000176429749, EO disparity: 0.030615505272024834\n",
      "----------------------------------------------------------------------\n"
     ]
    }
   ],
   "source": [
    "full_tests = []\n",
    "\n",
    "# Set the train data\n",
    "train_data = CustomDataset(xz_train, y_train, z_train)\n",
    "\n",
    "seeds = [0,1,2,3,4,5,6,7,8,9]\n",
    "for seed in seeds:\n",
    "    \n",
    "    print(\"< Seed: {} >\".format(seed))\n",
    "    \n",
    "    # ---------------------\n",
    "    #  Initialize model, optimizer, and criterion\n",
    "    # ---------------------\n",
    "    \n",
    "    #model = LogisticRegression(3,1)\n",
    "    model = nn.Sequential(\n",
    "        nn.Linear(3, 32),\n",
    "        nn.ReLU(),\n",
    "        nn.Linear(32, 32),\n",
    "        nn.ReLU(),\n",
    "        nn.Linear(32, 1),\n",
    "    )\n",
    "\n",
    "    torch.manual_seed(seed)\n",
    "    model.apply(weights_init_normal)\n",
    "\n",
    "    optimizer = torch.optim.Adam(model.parameters(), lr=0.0005, betas=(0.9, 0.999))\n",
    "    criterion = torch.nn.BCELoss()\n",
    "\n",
    "    losses = []\n",
    "    \n",
    "    # ---------------------\n",
    "    #  Define FairBatch and DataLoader\n",
    "    # ---------------------\n",
    "\n",
    "    sampler = FairBatch (model, train_data.x, train_data.y, train_data.z, batch_size = 100, alpha = 0.005, target_fairness = 'eqopp', replacement = False, seed = seed)\n",
    "    #sampler = FairBatch (model, train_data.x, train_data.y, train_data.z, batch_size = 100, alpha = 0.005, target_fairness = 'original', replacement = False, seed = seed)\n",
    "    train_loader = torch.utils.data.DataLoader (train_data, sampler=sampler, num_workers=0)\n",
    "\n",
    "    # ---------------------\n",
    "    #  Model training\n",
    "    # ---------------------\n",
    "    for epoch in range(300):\n",
    "\n",
    "        tmp_loss = []\n",
    "        \n",
    "        for batch_idx, (data, target, z) in enumerate (train_loader):\n",
    "            loss = run_epoch (model, data, target, optimizer, criterion)\n",
    "            tmp_loss.append(loss)\n",
    "            \n",
    "        losses.append(sum(tmp_loss)/len(tmp_loss))\n",
    "        \n",
    "    tmp_test = test_model(model, xz_test, y_test, z_test)\n",
    "    \n",
    "    x1 = xz_test[(z_test == 0.0) & (y_test == 1.0)]\n",
    "    x2 = xz_test[(z_test == 1.0) & (y_test == 1.0)]\n",
    "    \n",
    "    #min_num = min(x1.size()[0], x2.size()[0])\n",
    "    #x1 = x1[:min_num]\n",
    "    #x2 = x2[:min_num]\n",
    "    \n",
    "    x1_t = model[0](x1)\n",
    "    x2_t = model[0](x2)\n",
    "    \n",
    "    #diff = torch.sqrt(torch.sum((x1_t - x2_t) ** 2))\n",
    "    diff = torch.max(pairwise_euclidean_distance(x1_t, x2_t))\n",
    "    \n",
    "    tmp_test[\"diff\"] = diff\n",
    "    \n",
    "    full_tests.append(tmp_test)\n",
    "    \n",
    "    print(\"  Test accuracy: {}, EO disparity: {}\".format(tmp_test['Acc'], tmp_test['EO_Y1_diff']))\n",
    "    print(\"----------------------------------------------------------------------\")"
   ]
  },
  {
   "cell_type": "code",
   "execution_count": 78,
   "metadata": {},
   "outputs": [
    {
     "name": "stdout",
     "output_type": "stream",
     "text": [
      "Test accuracy (avg): 0.8671999931335449\n",
      "EO disparity  (avg): 0.03557285463928507\n",
      "Output F Norm = 19.98434066772461\n"
     ]
    }
   ],
   "source": [
    "tmp_acc = []\n",
    "tmp_eo = []\n",
    "tmp_diff = []\n",
    "for i in range(len(seeds)):\n",
    "    tmp_acc.append(full_tests[i]['Acc'])\n",
    "    tmp_eo.append(full_tests[i]['EO_Y1_diff'])\n",
    "    tmp_diff.append(full_tests[i][\"diff\"])\n",
    "\n",
    "print(\"Test accuracy (avg): {}\".format(sum(tmp_acc)/len(tmp_acc)))\n",
    "print(\"EO disparity  (avg): {}\".format(sum(tmp_eo)/len(tmp_eo)))\n",
    "print(\"Output F Norm = {}\".format(sum(tmp_diff) / len(tmp_diff)))"
   ]
  },
  {
   "cell_type": "markdown",
   "metadata": {},
   "source": [
    "# 2. FairBatch w.r.t. Equalized Odds \n",
    "### The results are in the supplementary of the paper."
   ]
  },
  {
   "cell_type": "code",
   "execution_count": 7,
   "metadata": {
    "scrolled": true
   },
   "outputs": [
    {
     "name": "stdout",
     "output_type": "stream",
     "text": [
      "< Seed: 0 >\n",
      "  Test accuracy: 0.8579999804496765, ED disparity: 0.035440184972895264\n",
      "----------------------------------------------------------------------\n",
      "< Seed: 1 >\n",
      "  Test accuracy: 0.8550000190734863, ED disparity: 0.04270697728641655\n",
      "----------------------------------------------------------------------\n",
      "< Seed: 2 >\n",
      "  Test accuracy: 0.8560000061988831, ED disparity: 0.035440184972895264\n",
      "----------------------------------------------------------------------\n",
      "< Seed: 3 >\n",
      "  Test accuracy: 0.8560000061988831, ED disparity: 0.04270697728641655\n",
      "----------------------------------------------------------------------\n",
      "< Seed: 4 >\n",
      "  Test accuracy: 0.8579999804496765, ED disparity: 0.035440184972895264\n",
      "----------------------------------------------------------------------\n",
      "< Seed: 5 >\n",
      "  Test accuracy: 0.8560000061988831, ED disparity: 0.035440184972895264\n",
      "----------------------------------------------------------------------\n",
      "< Seed: 6 >\n",
      "  Test accuracy: 0.8569999933242798, ED disparity: 0.035440184972895264\n",
      "----------------------------------------------------------------------\n",
      "< Seed: 7 >\n",
      "  Test accuracy: 0.8569999933242798, ED disparity: 0.035440184972895264\n",
      "----------------------------------------------------------------------\n",
      "< Seed: 8 >\n",
      "  Test accuracy: 0.8579999804496765, ED disparity: 0.035440184972895264\n",
      "----------------------------------------------------------------------\n",
      "< Seed: 9 >\n",
      "  Test accuracy: 0.8519999980926514, ED disparity: 0.04270697728641655\n",
      "----------------------------------------------------------------------\n"
     ]
    }
   ],
   "source": [
    "full_tests = []\n",
    "\n",
    "# Set the train data\n",
    "train_data = CustomDataset(xz_train, y_train, z_train)\n",
    "\n",
    "seeds = [0,1,2,3,4,5,6,7,8,9]\n",
    "for seed in seeds:\n",
    "    \n",
    "    print(\"< Seed: {} >\".format(seed))\n",
    "    \n",
    "    # ---------------------\n",
    "    #  Initialize model, optimizer, and criterion\n",
    "    # ---------------------\n",
    "    \n",
    "    model = LogisticRegression(3,1)\n",
    "\n",
    "    torch.manual_seed(seed)\n",
    "    model.apply(weights_init_normal)\n",
    "\n",
    "    optimizer = torch.optim.Adam(model.parameters(), lr=0.0005, betas=(0.9, 0.999))\n",
    "    criterion = torch.nn.BCELoss()\n",
    "\n",
    "    losses = []\n",
    "    \n",
    "    # ---------------------\n",
    "    #  Define FairBatch and DataLoader\n",
    "    # ---------------------\n",
    "    \n",
    "    sampler = FairBatch (model, train_data.x, train_data.y, train_data.z, batch_size = 100, alpha = 0.005, target_fairness = 'eqodds', replacement = False, seed = seed)\n",
    "    train_loader = torch.utils.data.DataLoader (train_data, sampler=sampler, num_workers=0)\n",
    "    \n",
    "    # ---------------------\n",
    "    #  Model training\n",
    "    # ---------------------\n",
    "    for epoch in range(400):\n",
    "\n",
    "        tmp_loss = []\n",
    "        \n",
    "        for batch_idx, (data, target, z) in enumerate (train_loader):\n",
    "            loss = run_epoch (model, data, target, optimizer, criterion)\n",
    "            tmp_loss.append(loss)\n",
    "            \n",
    "        losses.append(sum(tmp_loss)/len(tmp_loss))\n",
    "        \n",
    "    tmp_test = test_model(model, xz_test, y_test, z_test)\n",
    "    full_tests.append(tmp_test)\n",
    "    \n",
    "    print(\"  Test accuracy: {}, ED disparity: {}\".format(tmp_test['Acc'], tmp_test['EqOdds_diff']))\n",
    "    print(\"----------------------------------------------------------------------\")"
   ]
  },
  {
   "cell_type": "code",
   "execution_count": 8,
   "metadata": {
    "scrolled": true
   },
   "outputs": [
    {
     "name": "stdout",
     "output_type": "stream",
     "text": [
      "Test accuracy (avg): 0.8562999963760376\n",
      "ED disparity  (avg): 0.03762022266695164\n"
     ]
    }
   ],
   "source": [
    "tmp_acc = []\n",
    "tmp_ed = []\n",
    "for i in range(len(seeds)):\n",
    "    tmp_acc.append(full_tests[i]['Acc'])\n",
    "    tmp_ed.append(full_tests[i]['EqOdds_diff'])\n",
    "\n",
    "print(\"Test accuracy (avg): {}\".format(sum(tmp_acc)/len(tmp_acc)))\n",
    "print(\"ED disparity  (avg): {}\".format(sum(tmp_ed)/len(tmp_ed)))"
   ]
  },
  {
   "cell_type": "markdown",
   "metadata": {},
   "source": [
    "# 3. FairBatch w.r.t. Demographic parity\n",
    "### The results are in Section 4.1 of the paper."
   ]
  },
  {
   "cell_type": "code",
   "execution_count": 7,
   "metadata": {
    "scrolled": true
   },
   "outputs": [
    {
     "name": "stdout",
     "output_type": "stream",
     "text": [
      "< Seed: 0 >\n",
      "  Test accuracy: 0.8130000233650208, DP disparity: 0.10023419203747075\n",
      "----------------------------------------------------------------------\n",
      "< Seed: 1 >\n",
      "  Test accuracy: 0.7889999747276306, DP disparity: 0.06384074941451989\n",
      "----------------------------------------------------------------------\n",
      "< Seed: 2 >\n",
      "  Test accuracy: 0.8410000205039978, DP disparity: 0.12286651053864173\n",
      "----------------------------------------------------------------------\n",
      "< Seed: 3 >\n",
      "  Test accuracy: 0.7929999828338623, DP disparity: 0.06257611241217798\n",
      "----------------------------------------------------------------------\n",
      "< Seed: 4 >\n",
      "  Test accuracy: 0.8399999737739563, DP disparity: 0.1388922716627634\n",
      "----------------------------------------------------------------------\n",
      "< Seed: 5 >\n",
      "  Test accuracy: 0.8040000200271606, DP disparity: 0.06986651053864168\n",
      "----------------------------------------------------------------------\n",
      "< Seed: 6 >\n",
      "  Test accuracy: 0.8730000257492065, DP disparity: 0.202576112412178\n",
      "----------------------------------------------------------------------\n",
      "< Seed: 7 >\n",
      "  Test accuracy: 0.7670000195503235, DP disparity: 0.020182669789227115\n",
      "----------------------------------------------------------------------\n",
      "< Seed: 8 >\n",
      "  Test accuracy: 0.8069999814033508, DP disparity: 0.07618266978922716\n",
      "----------------------------------------------------------------------\n",
      "< Seed: 9 >\n",
      "  Test accuracy: 0.8360000252723694, DP disparity: 0.1268922716627635\n",
      "----------------------------------------------------------------------\n"
     ]
    }
   ],
   "source": [
    "full_tests = []\n",
    "\n",
    "# Set the train data\n",
    "train_data = CustomDataset(xz_train, y_train, z_train)\n",
    "\n",
    "seeds = [0,1,2,3,4,5,6,7,8,9]\n",
    "for seed in seeds:\n",
    "    \n",
    "    print(\"< Seed: {} >\".format(seed))\n",
    "    \n",
    "    # ---------------------\n",
    "    #  Initialize model, optimizer, and criterion\n",
    "    # ---------------------\n",
    "    \n",
    "    #model = LogisticRegression(3,1)\n",
    "    model = nn.Sequential(\n",
    "        nn.Linear(3, 32),\n",
    "        nn.ReLU(),\n",
    "        nn.Linear(32, 32),\n",
    "        nn.ReLU(),\n",
    "        nn.Linear(32, 1)\n",
    "    )\n",
    "\n",
    "    torch.manual_seed(seed)\n",
    "    model.apply(weights_init_normal)\n",
    "\n",
    "    optimizer = torch.optim.Adam(model.parameters(), lr=0.0005, betas=(0.9, 0.999))\n",
    "    criterion = torch.nn.BCELoss()\n",
    "\n",
    "    losses = []\n",
    "    \n",
    "    # ---------------------\n",
    "    #  Define FairBatch and DataLoader\n",
    "    # ---------------------\n",
    "    \n",
    "    sampler = FairBatch (model, train_data.x, train_data.y, train_data.z, batch_size = 100, alpha = 0.005, target_fairness = 'dp', replacement = False, seed = seed)\n",
    "    train_loader = torch.utils.data.DataLoader (train_data, sampler=sampler, num_workers=0)\n",
    "\n",
    "    # ---------------------\n",
    "    #  Model training\n",
    "    # ---------------------\n",
    "    for epoch in range(450):\n",
    "\n",
    "        tmp_loss = []\n",
    "        \n",
    "        for batch_idx, (data, target, z) in enumerate (train_loader):\n",
    "            loss = run_epoch (model, data, target, optimizer, criterion)\n",
    "            tmp_loss.append(loss)\n",
    "            \n",
    "        losses.append(sum(tmp_loss)/len(tmp_loss))\n",
    "        \n",
    "    tmp_test = test_model(model, xz_test, y_test, z_test)\n",
    "    full_tests.append(tmp_test)\n",
    "    \n",
    "    print(\"  Test accuracy: {}, DP disparity: {}\".format(tmp_test['Acc'], tmp_test['DP_diff']))\n",
    "    print(\"----------------------------------------------------------------------\")"
   ]
  },
  {
   "cell_type": "code",
   "execution_count": 8,
   "metadata": {},
   "outputs": [
    {
     "name": "stdout",
     "output_type": "stream",
     "text": [
      "Test accuracy (avg): 0.8163000047206879\n",
      "DP disparity  (avg): 0.09841100702576112\n"
     ]
    }
   ],
   "source": [
    "tmp_acc = []\n",
    "tmp_dp = []\n",
    "for i in range(len(seeds)):\n",
    "    tmp_acc.append(full_tests[i]['Acc'])\n",
    "    tmp_dp.append(full_tests[i]['DP_diff'])\n",
    "\n",
    "print(\"Test accuracy (avg): {}\".format(sum(tmp_acc)/len(tmp_acc)))\n",
    "print(\"DP disparity  (avg): {}\".format(sum(tmp_dp)/len(tmp_dp)))"
   ]
  }
 ],
 "metadata": {
  "kernelspec": {
   "display_name": "svd",
   "language": "python",
   "name": "python3"
  },
  "language_info": {
   "codemirror_mode": {
    "name": "ipython",
    "version": 3
   },
   "file_extension": ".py",
   "mimetype": "text/x-python",
   "name": "python",
   "nbconvert_exporter": "python",
   "pygments_lexer": "ipython3",
   "version": "3.10.14"
  }
 },
 "nbformat": 4,
 "nbformat_minor": 2
}
