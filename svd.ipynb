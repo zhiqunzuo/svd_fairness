{
 "cells": [
  {
   "cell_type": "code",
   "execution_count": 7,
   "metadata": {},
   "outputs": [],
   "source": [
    "from json import dumps\n",
    "\n",
    "import matplotlib.pyplot as plt\n",
    "import numpy as np\n",
    "import torch\n",
    "import transformers\n",
    "from tqdm.autonotebook import tqdm\n",
    "\n",
    "import loader\n",
    "from models import BinningCalibrator\n",
    "import utils\n",
    "\n",
    "split_ratio_test = 0.3\n",
    "split_ratio_postproc = 0.1  # among all training data\n",
    "\n",
    "# These seeds control the randomness for the post-process/test split and in\n",
    "# postprocessing.  It does not affect pre-training data nor the randomness in\n",
    "# pre-training, i.e., we assume the pre-trained predictor to be fixed.  Results\n",
    "# will be aggregated over the seeds.\n",
    "seeds = range(33, 38)\n",
    "\n",
    "# This seed controls the randomness during pre-training (fixed)\n",
    "seed_pretrain = 33\n",
    "\n",
    "# Settings for calibration\n",
    "split_ratio_calib = 0.3\n",
    "n_bins_calib = 70\n",
    "\n",
    "max_workers = 4\n",
    "device = torch.device(\"cuda\") if torch.cuda.is_available() else torch.device(\n",
    "    \"cpu\")\n",
    "\n",
    "data_dir = \"data/biasbios\""
   ]
  },
  {
   "cell_type": "code",
   "execution_count": 14,
   "metadata": {},
   "outputs": [
    {
     "data": {
      "text/html": [
       "<div>\n",
       "<style scoped>\n",
       "    .dataframe tbody tr th:only-of-type {\n",
       "        vertical-align: middle;\n",
       "    }\n",
       "\n",
       "    .dataframe tbody tr th {\n",
       "        vertical-align: top;\n",
       "    }\n",
       "\n",
       "    .dataframe thead th {\n",
       "        text-align: right;\n",
       "    }\n",
       "</style>\n",
       "<table border=\"1\" class=\"dataframe\">\n",
       "  <thead>\n",
       "    <tr style=\"text-align: right;\">\n",
       "      <th>Group</th>\n",
       "      <th>female</th>\n",
       "      <th>male</th>\n",
       "    </tr>\n",
       "    <tr>\n",
       "      <th>Target</th>\n",
       "      <th></th>\n",
       "      <th></th>\n",
       "    </tr>\n",
       "  </thead>\n",
       "  <tbody>\n",
       "    <tr>\n",
       "      <th>accountant</th>\n",
       "      <td>2081</td>\n",
       "      <td>3571</td>\n",
       "    </tr>\n",
       "    <tr>\n",
       "      <th>architect</th>\n",
       "      <td>2398</td>\n",
       "      <td>7715</td>\n",
       "    </tr>\n",
       "    <tr>\n",
       "      <th>attorney</th>\n",
       "      <td>12494</td>\n",
       "      <td>20113</td>\n",
       "    </tr>\n",
       "    <tr>\n",
       "      <th>chiropractor</th>\n",
       "      <td>690</td>\n",
       "      <td>1908</td>\n",
       "    </tr>\n",
       "    <tr>\n",
       "      <th>comedian</th>\n",
       "      <td>592</td>\n",
       "      <td>2207</td>\n",
       "    </tr>\n",
       "    <tr>\n",
       "      <th>composer</th>\n",
       "      <td>918</td>\n",
       "      <td>4682</td>\n",
       "    </tr>\n",
       "    <tr>\n",
       "      <th>dentist</th>\n",
       "      <td>5153</td>\n",
       "      <td>9326</td>\n",
       "    </tr>\n",
       "    <tr>\n",
       "      <th>dietitian</th>\n",
       "      <td>3689</td>\n",
       "      <td>289</td>\n",
       "    </tr>\n",
       "    <tr>\n",
       "      <th>dj</th>\n",
       "      <td>211</td>\n",
       "      <td>1274</td>\n",
       "    </tr>\n",
       "    <tr>\n",
       "      <th>filmmaker</th>\n",
       "      <td>2310</td>\n",
       "      <td>4699</td>\n",
       "    </tr>\n",
       "    <tr>\n",
       "      <th>interior_designer</th>\n",
       "      <td>1183</td>\n",
       "      <td>280</td>\n",
       "    </tr>\n",
       "    <tr>\n",
       "      <th>journalist</th>\n",
       "      <td>9873</td>\n",
       "      <td>10077</td>\n",
       "    </tr>\n",
       "    <tr>\n",
       "      <th>model</th>\n",
       "      <td>6214</td>\n",
       "      <td>1288</td>\n",
       "    </tr>\n",
       "    <tr>\n",
       "      <th>nurse</th>\n",
       "      <td>17236</td>\n",
       "      <td>1735</td>\n",
       "    </tr>\n",
       "    <tr>\n",
       "      <th>painter</th>\n",
       "      <td>3543</td>\n",
       "      <td>4193</td>\n",
       "    </tr>\n",
       "    <tr>\n",
       "      <th>paralegal</th>\n",
       "      <td>1499</td>\n",
       "      <td>268</td>\n",
       "    </tr>\n",
       "    <tr>\n",
       "      <th>pastor</th>\n",
       "      <td>609</td>\n",
       "      <td>1923</td>\n",
       "    </tr>\n",
       "    <tr>\n",
       "      <th>personal_trainer</th>\n",
       "      <td>654</td>\n",
       "      <td>778</td>\n",
       "    </tr>\n",
       "    <tr>\n",
       "      <th>photographer</th>\n",
       "      <td>8689</td>\n",
       "      <td>15635</td>\n",
       "    </tr>\n",
       "    <tr>\n",
       "      <th>physician</th>\n",
       "      <td>19579</td>\n",
       "      <td>18986</td>\n",
       "    </tr>\n",
       "    <tr>\n",
       "      <th>poet</th>\n",
       "      <td>3441</td>\n",
       "      <td>3570</td>\n",
       "    </tr>\n",
       "    <tr>\n",
       "      <th>professor</th>\n",
       "      <td>53290</td>\n",
       "      <td>64820</td>\n",
       "    </tr>\n",
       "    <tr>\n",
       "      <th>psychologist</th>\n",
       "      <td>11385</td>\n",
       "      <td>6910</td>\n",
       "    </tr>\n",
       "    <tr>\n",
       "      <th>rapper</th>\n",
       "      <td>136</td>\n",
       "      <td>1271</td>\n",
       "    </tr>\n",
       "    <tr>\n",
       "      <th>software_engineer</th>\n",
       "      <td>1089</td>\n",
       "      <td>5817</td>\n",
       "    </tr>\n",
       "    <tr>\n",
       "      <th>surgeon</th>\n",
       "      <td>1972</td>\n",
       "      <td>11301</td>\n",
       "    </tr>\n",
       "    <tr>\n",
       "      <th>teacher</th>\n",
       "      <td>9768</td>\n",
       "      <td>6428</td>\n",
       "    </tr>\n",
       "    <tr>\n",
       "      <th>yoga_teacher</th>\n",
       "      <td>1406</td>\n",
       "      <td>257</td>\n",
       "    </tr>\n",
       "  </tbody>\n",
       "</table>\n",
       "</div>"
      ],
      "text/plain": [
       "Group              female   male\n",
       "Target                          \n",
       "accountant           2081   3571\n",
       "architect            2398   7715\n",
       "attorney            12494  20113\n",
       "chiropractor          690   1908\n",
       "comedian              592   2207\n",
       "composer              918   4682\n",
       "dentist              5153   9326\n",
       "dietitian            3689    289\n",
       "dj                    211   1274\n",
       "filmmaker            2310   4699\n",
       "interior_designer    1183    280\n",
       "journalist           9873  10077\n",
       "model                6214   1288\n",
       "nurse               17236   1735\n",
       "painter              3543   4193\n",
       "paralegal            1499    268\n",
       "pastor                609   1923\n",
       "personal_trainer      654    778\n",
       "photographer         8689  15635\n",
       "physician           19579  18986\n",
       "poet                 3441   3570\n",
       "professor           53290  64820\n",
       "psychologist        11385   6910\n",
       "rapper                136   1271\n",
       "software_engineer    1089   5817\n",
       "surgeon              1972  11301\n",
       "teacher              9768   6428\n",
       "yoga_teacher         1406    257"
      ]
     },
     "metadata": {},
     "output_type": "display_data"
    },
    {
     "name": "stdout",
     "output_type": "stream",
     "text": [
      "labels = [26 21  2 ... 18 15 13]\n",
      "example from attribute-aware dataset: {\n",
      "  \"bio\": \"Male. He produced scores of films including such as al-Dhareeh (the shrine), 1976, winner of the Cinema Institute Films\\u2019 Award at the Documentary and Short Films Festival, Egypt, 1977; as well as the Kelibia Festival Award, Tunisia, 1978; al-Mahatta (The Station), winner of a major award at Oberhausen Short Film Festival, Germany, 1989; the EU Award at FESPACO Festival, Burkina Faso, 1990; The Silver Sword Award at Damascus festival, 1990; and The Silver Tanit Award, Carthage festival, Tunisia, 1991. Eltayeb has served as head of the Sudanese Film group for several terms and as secretary of the Sudanese Film club. He has written numerous articles on cinema, published in major Sudanese newspapers. He is currently working on a long fiction film, al-Siraj wal-attama (The Lantern and Darkness).\",\n",
      "  \"title\": 9,\n",
      "  \"gender\": 1\n",
      "}\n",
      "example from attribute-blind dataset: {\n",
      "  \"bio\": \"He produced scores of films including such as al-Dhareeh (the shrine), 1976, winner of the Cinema Institute Films\\u2019 Award at the Documentary and Short Films Festival, Egypt, 1977; as well as the Kelibia Festival Award, Tunisia, 1978; al-Mahatta (The Station), winner of a major award at Oberhausen Short Film Festival, Germany, 1989; the EU Award at FESPACO Festival, Burkina Faso, 1990; The Silver Sword Award at Damascus festival, 1990; and The Silver Tanit Award, Carthage festival, Tunisia, 1991. Eltayeb has served as head of the Sudanese Film group for several terms and as secretary of the Sudanese Film club. He has written numerous articles on cinema, published in major Sudanese newspapers. He is currently working on a long fiction film, al-Siraj wal-attama (The Lantern and Darkness).\",\n",
      "  \"title\": 9,\n",
      "  \"gender\": 1\n",
      "}\n"
     ]
    }
   ],
   "source": [
    "## Download BiasBios dataset\n",
    "\n",
    "(dataset, labels, label_names, groups,\n",
    " group_names) = loader.load_biasbios(data_dir, add_sensitive_attribute=True)\n",
    "dataset_u = loader.load_biasbios(data_dir, add_sensitive_attribute=False)[0]\n",
    "display(\n",
    "    loader.dataset_stats(dataset['title'], label_names, dataset['gender'],\n",
    "                         group_names))\n",
    "\n",
    "n_classes = len(label_names)\n",
    "n_groups = len(group_names)\n",
    "\n",
    "print('example from attribute-aware dataset:',\n",
    "      dumps(dataset[seed_pretrain], indent=2))\n",
    "print('example from attribute-blind dataset:',\n",
    "      dumps(dataset_u[seed_pretrain], indent=2))"
   ]
  },
  {
   "cell_type": "code",
   "execution_count": 9,
   "metadata": {},
   "outputs": [],
   "source": [
    "## Split data into (test + post-processing) and pre-training sets\n",
    "\n",
    "split_dataset = dataset.train_test_split(\n",
    "    test_size=(1 - split_ratio_test) * (1 - split_ratio_postproc),\n",
    "    seed=seed_pretrain,\n",
    ")\n",
    "dataset_ = split_dataset['train']\n",
    "dataset_pretrain = split_dataset['test']\n",
    "\n",
    "# Encode the joint (A, Y) labels by flattening\n",
    "dataset_u = dataset_u.add_column(\n",
    "    'labels_ay',\n",
    "    np.array(dataset_u['gender']) * n_classes + np.array(dataset_u['title']))\n",
    "\n",
    "split_dataset_u = dataset_u.train_test_split(\n",
    "    test_size=(1 - split_ratio_test) * (1 - split_ratio_postproc),\n",
    "    seed=seed_pretrain,\n",
    ")\n",
    "dataset_u_ = split_dataset_u['train']\n",
    "dataset_pretrain_u = split_dataset_u['test']\n",
    "\n",
    "labels_ = np.array(dataset_['title'])\n",
    "groups_ = np.array(dataset_['gender'])\n",
    "\n",
    "n_samples = len(dataset)\n",
    "n_test = int(n_samples * split_ratio_test)"
   ]
  },
  {
   "cell_type": "code",
   "execution_count": 10,
   "metadata": {},
   "outputs": [],
   "source": [
    "model_name = \"bert-base-uncased\""
   ]
  },
  {
   "cell_type": "code",
   "execution_count": 11,
   "metadata": {},
   "outputs": [
    {
     "name": "stderr",
     "output_type": "stream",
     "text": [
      "/Users/xiaoying/anaconda3/envs/svd/lib/python3.10/site-packages/huggingface_hub/file_download.py:1132: FutureWarning: `resume_download` is deprecated and will be removed in version 1.0.0. Downloads always resume when possible. If you want to force a new download, use `force_download=True`.\n",
      "  warnings.warn(\n"
     ]
    },
    {
     "data": {
      "application/vnd.jupyter.widget-view+json": {
       "model_id": "28cecc9c4ca34bf0a22023cd6fdee45c",
       "version_major": 2,
       "version_minor": 0
      },
      "text/plain": [
       "tokenizer_config.json:   0%|          | 0.00/48.0 [00:00<?, ?B/s]"
      ]
     },
     "metadata": {},
     "output_type": "display_data"
    },
    {
     "data": {
      "application/vnd.jupyter.widget-view+json": {
       "model_id": "78cfee52f45c41adaae1f0e099d4ef54",
       "version_major": 2,
       "version_minor": 0
      },
      "text/plain": [
       "config.json:   0%|          | 0.00/570 [00:00<?, ?B/s]"
      ]
     },
     "metadata": {},
     "output_type": "display_data"
    },
    {
     "data": {
      "application/vnd.jupyter.widget-view+json": {
       "model_id": "eee1226196314abfb7f4b6c05fc4887e",
       "version_major": 2,
       "version_minor": 0
      },
      "text/plain": [
       "vocab.txt:   0%|          | 0.00/232k [00:00<?, ?B/s]"
      ]
     },
     "metadata": {},
     "output_type": "display_data"
    },
    {
     "data": {
      "application/vnd.jupyter.widget-view+json": {
       "model_id": "67affef05ef54b06a5b04cd23516b2d5",
       "version_major": 2,
       "version_minor": 0
      },
      "text/plain": [
       "tokenizer.json:   0%|          | 0.00/466k [00:00<?, ?B/s]"
      ]
     },
     "metadata": {},
     "output_type": "display_data"
    },
    {
     "data": {
      "application/vnd.jupyter.widget-view+json": {
       "model_id": "f22b1114ed034a03a4fc73528cefcf04",
       "version_major": 2,
       "version_minor": 0
      },
      "text/plain": [
       "Running tokenizer:   0%|          | 0/145566 [00:00<?, ? examples/s]"
      ]
     },
     "metadata": {},
     "output_type": "display_data"
    },
    {
     "data": {
      "application/vnd.jupyter.widget-view+json": {
       "model_id": "12f4ef592ba445e2b21f454f4a172204",
       "version_major": 2,
       "version_minor": 0
      },
      "text/plain": [
       "Running tokenizer:   0%|          | 0/247857 [00:00<?, ? examples/s]"
      ]
     },
     "metadata": {},
     "output_type": "display_data"
    },
    {
     "data": {
      "application/vnd.jupyter.widget-view+json": {
       "model_id": "fc306d3ad21a41c9b9796c7c53b031db",
       "version_major": 2,
       "version_minor": 0
      },
      "text/plain": [
       "Running tokenizer:   0%|          | 0/145566 [00:00<?, ? examples/s]"
      ]
     },
     "metadata": {},
     "output_type": "display_data"
    },
    {
     "data": {
      "application/vnd.jupyter.widget-view+json": {
       "model_id": "d876132f0b664c70a8ce9ca199186391",
       "version_major": 2,
       "version_minor": 0
      },
      "text/plain": [
       "Running tokenizer:   0%|          | 0/247857 [00:00<?, ? examples/s]"
      ]
     },
     "metadata": {},
     "output_type": "display_data"
    }
   ],
   "source": [
    "tokenizer = transformers.AutoTokenizer.from_pretrained(model_name)\n",
    "\n",
    "\n",
    "def tokenize_function(examples):\n",
    "  tokenized_examples = tokenizer(examples[\"bio\"],\n",
    "                                 padding=False,\n",
    "                                 max_length=tokenizer.model_max_length,\n",
    "                                 truncation=True)\n",
    "  return tokenized_examples\n",
    "\n",
    "\n",
    "tokenized_dataset_ = dataset_.map(\n",
    "    tokenize_function,\n",
    "    batched=True,\n",
    "    remove_columns=['bio'],\n",
    "    desc=\"Running tokenizer\",\n",
    ")\n",
    "tokenized_dataset_pretrain = dataset_pretrain.map(\n",
    "    tokenize_function,\n",
    "    batched=True,\n",
    "    remove_columns=['bio'],\n",
    "    desc=\"Running tokenizer\",\n",
    ")\n",
    "tokenized_dataset_u_ = dataset_u_.map(\n",
    "    tokenize_function,\n",
    "    batched=True,\n",
    "    remove_columns=['bio'],\n",
    "    desc=\"Running tokenizer\",\n",
    ")\n",
    "tokenized_dataset_pretrain_u = dataset_pretrain_u.map(\n",
    "    tokenize_function,\n",
    "    batched=True,\n",
    "    remove_columns=['bio'],\n",
    "    desc=\"Running tokenizer\",\n",
    ")"
   ]
  },
  {
   "cell_type": "code",
   "execution_count": 12,
   "metadata": {},
   "outputs": [],
   "source": [
    "data_collator = transformers.DataCollatorWithPadding(tokenizer)\n",
    "\n",
    "\n",
    "def train(model, dataset_train, dataset_test, label_col_name, batch_size,\n",
    "          n_epochs, lr, warmup_ratio, weight_decay, max_grad_norm):\n",
    "\n",
    "  dataloader_train = torch.utils.data.DataLoader(\n",
    "      dataset_train,\n",
    "      shuffle=True,\n",
    "      collate_fn=data_collator,\n",
    "      batch_size=batch_size,\n",
    "  )\n",
    "  dataloader_test = torch.utils.data.DataLoader(\n",
    "      dataset_test,\n",
    "      collate_fn=data_collator,\n",
    "      batch_size=batch_size,\n",
    "  )\n",
    "\n",
    "  no_decay = [\"bias\", \"LayerNorm.weight\"]\n",
    "  optimizer_grouped_parameters = [\n",
    "      {\n",
    "          \"params\": [\n",
    "              p for n, p in model.named_parameters()\n",
    "              if not any(nd in n for nd in no_decay)\n",
    "          ],\n",
    "          \"weight_decay\": weight_decay,\n",
    "      },\n",
    "      {\n",
    "          \"params\": [\n",
    "              p for n, p in model.named_parameters()\n",
    "              if any(nd in n for nd in no_decay)\n",
    "          ],\n",
    "          \"weight_decay\": 0.0\n",
    "      },\n",
    "  ]\n",
    "  optimizer = torch.optim.AdamW(optimizer_grouped_parameters, lr=lr)\n",
    "  scheduler = transformers.get_linear_schedule_with_warmup(\n",
    "      optimizer,\n",
    "      num_warmup_steps=(warmup_ratio * n_epochs * len(dataloader_train)),\n",
    "      num_training_steps=n_epochs * len(dataloader_train))\n",
    "\n",
    "  model_input_args = list(model.forward.__code__.co_varnames)\n",
    "  loss_fn = torch.nn.CrossEntropyLoss()\n",
    "\n",
    "  for epoch in range(n_epochs):\n",
    "\n",
    "    model.train()\n",
    "    for batch in tqdm(dataloader_train, desc=f\"train epoch {epoch+1}\"):\n",
    "      batch = {k: v.to(device) for k, v in batch.items()}\n",
    "      optimizer.zero_grad()\n",
    "      outputs = model(**{\n",
    "          k: v for k, v in batch.items() if k in model_input_args\n",
    "      })\n",
    "      loss = loss_fn(outputs.logits, batch[label_col_name])\n",
    "      loss.backward()\n",
    "      torch.nn.utils.clip_grad_norm_(model.parameters(), max_grad_norm)\n",
    "      optimizer.step()\n",
    "      scheduler.step()\n",
    "\n",
    "    model.eval()\n",
    "    with torch.no_grad():\n",
    "      test_loss = 0\n",
    "      test_acc = 0\n",
    "      for batch in tqdm(dataloader_test, desc=f\"test {epoch+1}\"):\n",
    "        batch = {k: v.to(device) for k, v in batch.items()}\n",
    "        outputs = model(**{\n",
    "            k: v for k, v in batch.items() if k in model_input_args\n",
    "        })\n",
    "        probas = outputs.logits\n",
    "        test_loss += loss_fn(probas, batch[label_col_name]).item()\n",
    "        probas_y = probas.softmax(dim=1).reshape(len(batch['title']), -1,\n",
    "                                                 n_classes).sum(dim=1)\n",
    "        test_acc += (probas_y.argmax(dim=1) == batch['title']).sum().item()\n",
    "      test_loss /= len(dataset_test['title'])\n",
    "      test_acc /= len(dataset_test['title'])\n",
    "      print(\n",
    "          f\"epoch {epoch+1}/{n_epochs}: loss={test_loss:.4f}, acc={test_acc:.4f}\"\n",
    "      )\n",
    "\n",
    "\n",
    "def predict_probas(model, dataset, batch_size):\n",
    "  dataloader = torch.utils.data.DataLoader(\n",
    "      dataset,\n",
    "      collate_fn=data_collator,\n",
    "      batch_size=batch_size,\n",
    "  )\n",
    "  model_input_args = list(model.forward.__code__.co_varnames)\n",
    "  model.eval()\n",
    "  with torch.no_grad():\n",
    "    probas = []\n",
    "    for batch in tqdm(dataloader, desc=\"inference\"):\n",
    "      batch = {\n",
    "          k: v.to(device) for k, v in batch.items() if k in model_input_args\n",
    "      }\n",
    "      outputs = model(**batch)\n",
    "      probas.append(outputs.logits.softmax(dim=1).cpu().numpy())\n",
    "    probas = np.concatenate(probas, axis=0)\n",
    "    return probas"
   ]
  },
  {
   "cell_type": "code",
   "execution_count": 13,
   "metadata": {},
   "outputs": [
    {
     "name": "stderr",
     "output_type": "stream",
     "text": [
      "/Users/xiaoying/anaconda3/envs/svd/lib/python3.10/site-packages/huggingface_hub/file_download.py:1132: FutureWarning: `resume_download` is deprecated and will be removed in version 1.0.0. Downloads always resume when possible. If you want to force a new download, use `force_download=True`.\n",
      "  warnings.warn(\n"
     ]
    },
    {
     "data": {
      "application/vnd.jupyter.widget-view+json": {
       "model_id": "c3b387112bd440d9b6e28192fb12282e",
       "version_major": 2,
       "version_minor": 0
      },
      "text/plain": [
       "model.safetensors:   0%|          | 0.00/440M [00:00<?, ?B/s]"
      ]
     },
     "metadata": {},
     "output_type": "display_data"
    },
    {
     "name": "stderr",
     "output_type": "stream",
     "text": [
      "Some weights of BertForSequenceClassification were not initialized from the model checkpoint at bert-base-uncased and are newly initialized: ['classifier.bias', 'classifier.weight']\n",
      "You should probably TRAIN this model on a down-stream task to be able to use it for predictions and inference.\n"
     ]
    },
    {
     "data": {
      "application/vnd.jupyter.widget-view+json": {
       "model_id": "f5c246c765454ed38411a1d8dc4e0fa4",
       "version_major": 2,
       "version_minor": 0
      },
      "text/plain": [
       "train epoch 1:   0%|          | 0/7746 [00:00<?, ?it/s]"
      ]
     },
     "metadata": {},
     "output_type": "display_data"
    },
    {
     "ename": "KeyboardInterrupt",
     "evalue": "",
     "output_type": "error",
     "traceback": [
      "\u001b[0;31m---------------------------------------------------------------------------\u001b[0m",
      "\u001b[0;31mKeyboardInterrupt\u001b[0m                         Traceback (most recent call last)",
      "Cell \u001b[0;32mIn[13], line 14\u001b[0m\n\u001b[1;32m     11\u001b[0m transformers\u001b[38;5;241m.\u001b[39mset_seed(seed_pretrain)\n\u001b[1;32m     12\u001b[0m model \u001b[38;5;241m=\u001b[39m transformers\u001b[38;5;241m.\u001b[39mAutoModelForSequenceClassification\u001b[38;5;241m.\u001b[39mfrom_pretrained(\n\u001b[1;32m     13\u001b[0m     model_name, num_labels\u001b[38;5;241m=\u001b[39mn_classes)\u001b[38;5;241m.\u001b[39mto(device)\n\u001b[0;32m---> 14\u001b[0m \u001b[43mtrain\u001b[49m\u001b[43m(\u001b[49m\n\u001b[1;32m     15\u001b[0m \u001b[43m    \u001b[49m\u001b[43mmodel\u001b[49m\u001b[43m,\u001b[49m\n\u001b[1;32m     16\u001b[0m \u001b[43m    \u001b[49m\u001b[43mtokenized_dataset_pretrain\u001b[49m\u001b[43m,\u001b[49m\n\u001b[1;32m     17\u001b[0m \u001b[43m    \u001b[49m\u001b[43mtokenized_dataset_\u001b[49m\u001b[38;5;241;43m.\u001b[39;49m\u001b[43mtrain_test_split\u001b[49m\u001b[43m(\u001b[49m\u001b[43mtest_size\u001b[49m\u001b[38;5;241;43m=\u001b[39;49m\u001b[38;5;241;43m0.1\u001b[39;49m\u001b[43m,\u001b[49m\n\u001b[1;32m     18\u001b[0m \u001b[43m                                        \u001b[49m\u001b[43mseed\u001b[49m\u001b[38;5;241;43m=\u001b[39;49m\u001b[43mseed_pretrain\u001b[49m\u001b[43m)\u001b[49m\u001b[43m[\u001b[49m\u001b[38;5;124;43m'\u001b[39;49m\u001b[38;5;124;43mtest\u001b[39;49m\u001b[38;5;124;43m'\u001b[39;49m\u001b[43m]\u001b[49m\u001b[43m,\u001b[49m\n\u001b[1;32m     19\u001b[0m \u001b[43m    \u001b[49m\u001b[38;5;124;43m'\u001b[39;49m\u001b[38;5;124;43mtitle\u001b[39;49m\u001b[38;5;124;43m'\u001b[39;49m\u001b[43m,\u001b[49m\n\u001b[1;32m     20\u001b[0m \u001b[43m    \u001b[49m\u001b[43mbatch_size\u001b[49m\u001b[43m,\u001b[49m\n\u001b[1;32m     21\u001b[0m \u001b[43m    \u001b[49m\u001b[43mn_epochs\u001b[49m\u001b[43m,\u001b[49m\n\u001b[1;32m     22\u001b[0m \u001b[43m    \u001b[49m\u001b[43mlr\u001b[49m\u001b[43m,\u001b[49m\n\u001b[1;32m     23\u001b[0m \u001b[43m    \u001b[49m\u001b[43mwarmup_ratio\u001b[49m\u001b[43m,\u001b[49m\n\u001b[1;32m     24\u001b[0m \u001b[43m    \u001b[49m\u001b[43mweight_decay\u001b[49m\u001b[43m,\u001b[49m\n\u001b[1;32m     25\u001b[0m \u001b[43m    \u001b[49m\u001b[43mmax_grad_norm\u001b[49m\u001b[43m,\u001b[49m\n\u001b[1;32m     26\u001b[0m \u001b[43m)\u001b[49m\n\u001b[1;32m     28\u001b[0m \u001b[38;5;66;03m# Train attribute-blind p(A, Y | X) predictor\u001b[39;00m\n\u001b[1;32m     29\u001b[0m transformers\u001b[38;5;241m.\u001b[39mset_seed(seed_pretrain)\n",
      "Cell \u001b[0;32mIn[12], line 55\u001b[0m, in \u001b[0;36mtrain\u001b[0;34m(model, dataset_train, dataset_test, label_col_name, batch_size, n_epochs, lr, warmup_ratio, weight_decay, max_grad_norm)\u001b[0m\n\u001b[1;32m     51\u001b[0m outputs \u001b[38;5;241m=\u001b[39m model(\u001b[38;5;241m*\u001b[39m\u001b[38;5;241m*\u001b[39m{\n\u001b[1;32m     52\u001b[0m     k: v \u001b[38;5;28;01mfor\u001b[39;00m k, v \u001b[38;5;129;01min\u001b[39;00m batch\u001b[38;5;241m.\u001b[39mitems() \u001b[38;5;28;01mif\u001b[39;00m k \u001b[38;5;129;01min\u001b[39;00m model_input_args\n\u001b[1;32m     53\u001b[0m })\n\u001b[1;32m     54\u001b[0m loss \u001b[38;5;241m=\u001b[39m loss_fn(outputs\u001b[38;5;241m.\u001b[39mlogits, batch[label_col_name])\n\u001b[0;32m---> 55\u001b[0m \u001b[43mloss\u001b[49m\u001b[38;5;241;43m.\u001b[39;49m\u001b[43mbackward\u001b[49m\u001b[43m(\u001b[49m\u001b[43m)\u001b[49m\n\u001b[1;32m     56\u001b[0m torch\u001b[38;5;241m.\u001b[39mnn\u001b[38;5;241m.\u001b[39mutils\u001b[38;5;241m.\u001b[39mclip_grad_norm_(model\u001b[38;5;241m.\u001b[39mparameters(), max_grad_norm)\n\u001b[1;32m     57\u001b[0m optimizer\u001b[38;5;241m.\u001b[39mstep()\n",
      "File \u001b[0;32m~/anaconda3/envs/svd/lib/python3.10/site-packages/torch/_tensor.py:525\u001b[0m, in \u001b[0;36mTensor.backward\u001b[0;34m(self, gradient, retain_graph, create_graph, inputs)\u001b[0m\n\u001b[1;32m    515\u001b[0m \u001b[38;5;28;01mif\u001b[39;00m has_torch_function_unary(\u001b[38;5;28mself\u001b[39m):\n\u001b[1;32m    516\u001b[0m     \u001b[38;5;28;01mreturn\u001b[39;00m handle_torch_function(\n\u001b[1;32m    517\u001b[0m         Tensor\u001b[38;5;241m.\u001b[39mbackward,\n\u001b[1;32m    518\u001b[0m         (\u001b[38;5;28mself\u001b[39m,),\n\u001b[0;32m   (...)\u001b[0m\n\u001b[1;32m    523\u001b[0m         inputs\u001b[38;5;241m=\u001b[39minputs,\n\u001b[1;32m    524\u001b[0m     )\n\u001b[0;32m--> 525\u001b[0m \u001b[43mtorch\u001b[49m\u001b[38;5;241;43m.\u001b[39;49m\u001b[43mautograd\u001b[49m\u001b[38;5;241;43m.\u001b[39;49m\u001b[43mbackward\u001b[49m\u001b[43m(\u001b[49m\n\u001b[1;32m    526\u001b[0m \u001b[43m    \u001b[49m\u001b[38;5;28;43mself\u001b[39;49m\u001b[43m,\u001b[49m\u001b[43m \u001b[49m\u001b[43mgradient\u001b[49m\u001b[43m,\u001b[49m\u001b[43m \u001b[49m\u001b[43mretain_graph\u001b[49m\u001b[43m,\u001b[49m\u001b[43m \u001b[49m\u001b[43mcreate_graph\u001b[49m\u001b[43m,\u001b[49m\u001b[43m \u001b[49m\u001b[43minputs\u001b[49m\u001b[38;5;241;43m=\u001b[39;49m\u001b[43minputs\u001b[49m\n\u001b[1;32m    527\u001b[0m \u001b[43m\u001b[49m\u001b[43m)\u001b[49m\n",
      "File \u001b[0;32m~/anaconda3/envs/svd/lib/python3.10/site-packages/torch/autograd/__init__.py:267\u001b[0m, in \u001b[0;36mbackward\u001b[0;34m(tensors, grad_tensors, retain_graph, create_graph, grad_variables, inputs)\u001b[0m\n\u001b[1;32m    262\u001b[0m     retain_graph \u001b[38;5;241m=\u001b[39m create_graph\n\u001b[1;32m    264\u001b[0m \u001b[38;5;66;03m# The reason we repeat the same comment below is that\u001b[39;00m\n\u001b[1;32m    265\u001b[0m \u001b[38;5;66;03m# some Python versions print out the first line of a multi-line function\u001b[39;00m\n\u001b[1;32m    266\u001b[0m \u001b[38;5;66;03m# calls in the traceback and some print out the last line\u001b[39;00m\n\u001b[0;32m--> 267\u001b[0m \u001b[43m_engine_run_backward\u001b[49m\u001b[43m(\u001b[49m\n\u001b[1;32m    268\u001b[0m \u001b[43m    \u001b[49m\u001b[43mtensors\u001b[49m\u001b[43m,\u001b[49m\n\u001b[1;32m    269\u001b[0m \u001b[43m    \u001b[49m\u001b[43mgrad_tensors_\u001b[49m\u001b[43m,\u001b[49m\n\u001b[1;32m    270\u001b[0m \u001b[43m    \u001b[49m\u001b[43mretain_graph\u001b[49m\u001b[43m,\u001b[49m\n\u001b[1;32m    271\u001b[0m \u001b[43m    \u001b[49m\u001b[43mcreate_graph\u001b[49m\u001b[43m,\u001b[49m\n\u001b[1;32m    272\u001b[0m \u001b[43m    \u001b[49m\u001b[43minputs\u001b[49m\u001b[43m,\u001b[49m\n\u001b[1;32m    273\u001b[0m \u001b[43m    \u001b[49m\u001b[43mallow_unreachable\u001b[49m\u001b[38;5;241;43m=\u001b[39;49m\u001b[38;5;28;43;01mTrue\u001b[39;49;00m\u001b[43m,\u001b[49m\n\u001b[1;32m    274\u001b[0m \u001b[43m    \u001b[49m\u001b[43maccumulate_grad\u001b[49m\u001b[38;5;241;43m=\u001b[39;49m\u001b[38;5;28;43;01mTrue\u001b[39;49;00m\u001b[43m,\u001b[49m\n\u001b[1;32m    275\u001b[0m \u001b[43m\u001b[49m\u001b[43m)\u001b[49m\n",
      "File \u001b[0;32m~/anaconda3/envs/svd/lib/python3.10/site-packages/torch/autograd/graph.py:744\u001b[0m, in \u001b[0;36m_engine_run_backward\u001b[0;34m(t_outputs, *args, **kwargs)\u001b[0m\n\u001b[1;32m    742\u001b[0m     unregister_hooks \u001b[38;5;241m=\u001b[39m _register_logging_hooks_on_whole_graph(t_outputs)\n\u001b[1;32m    743\u001b[0m \u001b[38;5;28;01mtry\u001b[39;00m:\n\u001b[0;32m--> 744\u001b[0m     \u001b[38;5;28;01mreturn\u001b[39;00m \u001b[43mVariable\u001b[49m\u001b[38;5;241;43m.\u001b[39;49m\u001b[43m_execution_engine\u001b[49m\u001b[38;5;241;43m.\u001b[39;49m\u001b[43mrun_backward\u001b[49m\u001b[43m(\u001b[49m\u001b[43m  \u001b[49m\u001b[38;5;66;43;03m# Calls into the C++ engine to run the backward pass\u001b[39;49;00m\n\u001b[1;32m    745\u001b[0m \u001b[43m        \u001b[49m\u001b[43mt_outputs\u001b[49m\u001b[43m,\u001b[49m\u001b[43m \u001b[49m\u001b[38;5;241;43m*\u001b[39;49m\u001b[43margs\u001b[49m\u001b[43m,\u001b[49m\u001b[43m \u001b[49m\u001b[38;5;241;43m*\u001b[39;49m\u001b[38;5;241;43m*\u001b[39;49m\u001b[43mkwargs\u001b[49m\n\u001b[1;32m    746\u001b[0m \u001b[43m    \u001b[49m\u001b[43m)\u001b[49m  \u001b[38;5;66;03m# Calls into the C++ engine to run the backward pass\u001b[39;00m\n\u001b[1;32m    747\u001b[0m \u001b[38;5;28;01mfinally\u001b[39;00m:\n\u001b[1;32m    748\u001b[0m     \u001b[38;5;28;01mif\u001b[39;00m attach_logging_hooks:\n",
      "\u001b[0;31mKeyboardInterrupt\u001b[0m: "
     ]
    }
   ],
   "source": [
    "## (Pre-)train predictors\n",
    "\n",
    "batch_size = 32\n",
    "n_epochs = 3\n",
    "lr = 2e-5\n",
    "warmup_ratio = 0.1\n",
    "weight_decay = 0.01\n",
    "max_grad_norm = 1.0\n",
    "\n",
    "# Train attribute-aware p(Y | X) predictor\n",
    "transformers.set_seed(seed_pretrain)\n",
    "model = transformers.AutoModelForSequenceClassification.from_pretrained(\n",
    "    model_name, num_labels=n_classes).to(device)\n",
    "train(\n",
    "    model,\n",
    "    tokenized_dataset_pretrain,\n",
    "    tokenized_dataset_.train_test_split(test_size=0.1,\n",
    "                                        seed=seed_pretrain)['test'],\n",
    "    'title',\n",
    "    batch_size,\n",
    "    n_epochs,\n",
    "    lr,\n",
    "    warmup_ratio,\n",
    "    weight_decay,\n",
    "    max_grad_norm,\n",
    ")\n",
    "\n",
    "# Train attribute-blind p(A, Y | X) predictor\n",
    "transformers.set_seed(seed_pretrain)\n",
    "model_u = transformers.AutoModelForSequenceClassification.from_pretrained(\n",
    "    model_name, num_labels=n_groups * n_classes).to(device)\n",
    "\n",
    "\"\"\"\n",
    "train(\n",
    "    model_u,\n",
    "    tokenized_dataset_pretrain_u,\n",
    "    tokenized_dataset_u_.train_test_split(test_size=0.1,\n",
    "                                          seed=seed_pretrain)['test'],\n",
    "    'labels_ay',\n",
    "    batch_size,\n",
    "    n_epochs,\n",
    "    lr,\n",
    "    warmup_ratio,\n",
    "    weight_decay,\n",
    "    max_grad_norm,\n",
    ")\n",
    "\"\"\""
   ]
  }
 ],
 "metadata": {
  "kernelspec": {
   "display_name": "svd",
   "language": "python",
   "name": "python3"
  },
  "language_info": {
   "codemirror_mode": {
    "name": "ipython",
    "version": 3
   },
   "file_extension": ".py",
   "mimetype": "text/x-python",
   "name": "python",
   "nbconvert_exporter": "python",
   "pygments_lexer": "ipython3",
   "version": "3.10.14"
  }
 },
 "nbformat": 4,
 "nbformat_minor": 2
}
